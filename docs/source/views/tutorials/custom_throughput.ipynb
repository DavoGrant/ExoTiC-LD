{
 "cells": [
  {
   "cell_type": "markdown",
   "id": "f691395d",
   "metadata": {},
   "source": [
    "# Use a custom throughput\n",
    "\n",
    "In this tutorial we take a look at how to use a custom throughput if you cannot find the mode you are looking for in supported instruments.\n",
    "\n",
    "Let us mock up some throughput data."
   ]
  },
  {
   "cell_type": "code",
   "execution_count": 1,
   "id": "af515b19",
   "metadata": {},
   "outputs": [],
   "source": [
    "import numpy as np\n",
    "\n",
    "\n",
    "wvs = np.linspace(10000., 20000., 100)\n",
    "throughput = np.exp(-0.5 * ((wvs - 15000.) / 5000.)**2)"
   ]
  },
  {
   "cell_type": "markdown",
   "id": "ac186b31",
   "metadata": {},
   "source": [
    "With this data in hand, you can run the code as follows."
   ]
  },
  {
   "cell_type": "code",
   "execution_count": 2,
   "id": "809b456a",
   "metadata": {},
   "outputs": [
    {
     "name": "stdout",
     "output_type": "stream",
     "text": [
      "(0.6196927861080398, 0.1956224528931391, -0.4096670803299519, 0.1603758009182527)\n"
     ]
    }
   ],
   "source": [
    "import os\n",
    "from exotic_ld import StellarLimbDarkening\n",
    "\n",
    "\n",
    "sld = StellarLimbDarkening(M_H=0.01, Teff=5512, logg=4.47, \n",
    "                           ld_model=\"mps1\",\n",
    "                           ld_data_path=\"exotic_ld_data\")\n",
    "cs = sld.compute_4_parameter_non_linear_ld_coeffs(wavelength_range=[13000., 17000.], \n",
    "                                                  mode=\"custom\", \n",
    "                                                  custom_wavelengths=wvs, \n",
    "                                                  custom_throughput=throughput)\n",
    "print(cs)"
   ]
  }
 ],
 "metadata": {
  "kernelspec": {
   "display_name": "Python 3 (ipykernel)",
   "language": "python",
   "name": "python3"
  },
  "language_info": {
   "codemirror_mode": {
    "name": "ipython",
    "version": 3
   },
   "file_extension": ".py",
   "mimetype": "text/x-python",
   "name": "python",
   "nbconvert_exporter": "python",
   "pygments_lexer": "ipython3",
   "version": "3.9.16"
  }
 },
 "nbformat": 4,
 "nbformat_minor": 5
}
