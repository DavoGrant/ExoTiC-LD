{
 "cells": [
  {
   "cell_type": "markdown",
   "id": "f691395d",
   "metadata": {},
   "source": [
    "# Use a custom throughput\n",
    "\n",
    "In this tutorial we take a quick look at how to use a custom throughput if you cannot find the mode you are looking for in supported instruments. Let us mock up some throughput data.\n"
   ]
  },
  {
   "cell_type": "code",
   "execution_count": 1,
   "id": "af515b19",
   "metadata": {},
   "outputs": [],
   "source": [
    "import numpy as np\n",
    "\n",
    "\n",
    "custom_wavelengths = np.linspace(10000., 20000., 100)\n",
    "custom_throughput = np.exp(-0.5 * ((custom_wavelengths - 15000.) / 5000.)**2)"
   ]
  },
  {
   "cell_type": "markdown",
   "id": "ac186b31",
   "metadata": {},
   "source": [
    "With this data in hand, we can simply run the code as follows."
   ]
  },
  {
   "cell_type": "code",
   "execution_count": 2,
   "id": "809b456a",
   "metadata": {},
   "outputs": [],
   "source": [
    "import os\n",
    "from exotic_ld import StellarLimbDarkening\n",
    "\n",
    "\n",
    "sld = StellarLimbDarkening(M_H=0.01, Teff=5512, logg=4.47, ld_model='1D',\n",
    "                           ld_data_path=os.environ['exotic_ld_data'])\n",
    "\n",
    "wavelength_range = [13000., 17000.]\n",
    "mode = 'custom'\n",
    "\n",
    "c1, c2, c3, c4 = sld.compute_4_parameter_non_linear_ld_coeffs(\n",
    "    wavelength_range, mode, custom_wavelengths, custom_throughput)"
   ]
  }
 ],
 "metadata": {
  "kernelspec": {
   "display_name": "Python 3 (ipykernel)",
   "language": "python",
   "name": "python3"
  },
  "language_info": {
   "codemirror_mode": {
    "name": "ipython",
    "version": 3
   },
   "file_extension": ".py",
   "mimetype": "text/x-python",
   "name": "python",
   "nbconvert_exporter": "python",
   "pygments_lexer": "ipython3",
   "version": "3.8.13"
  }
 },
 "nbformat": 4,
 "nbformat_minor": 5
}
